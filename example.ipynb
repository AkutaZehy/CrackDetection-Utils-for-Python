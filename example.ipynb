{
 "cells": [
  {
   "cell_type": "markdown",
   "metadata": {},
   "source": [
    "## Here is an example of using crack_detection_util"
   ]
  },
  {
   "cell_type": "markdown",
   "metadata": {},
   "source": [
    "### MyImage Util"
   ]
  },
  {
   "cell_type": "code",
   "execution_count": 1,
   "metadata": {},
   "outputs": [],
   "source": [
    "from crack_detection_util.image_util import MyImage\n",
    "\n",
    "folder = \"example/chunk/\"\n",
    "mi = MyImage(model_name='maskrcnn',chunk_size=512, folder=folder)"
   ]
  },
  {
   "cell_type": "code",
   "execution_count": 2,
   "metadata": {},
   "outputs": [],
   "source": [
    "# convert all images to png\n",
    "mi.convert('png')"
   ]
  },
  {
   "cell_type": "code",
   "execution_count": 3,
   "metadata": {},
   "outputs": [
    {
     "name": "stdout",
     "output_type": "stream",
     "text": [
      "Warning: Existing files found in output folder: example/chunk/cache\\chunk\\test\n",
      "Images chunked and saved in: d:\\Users\\Documents\\GitHub\\CrackDetection-Utils-for-Python\\example\\chunk\\cache\\chunk\n"
     ]
    }
   ],
   "source": [
    "mi.batch_chunk_images()"
   ]
  },
  {
   "cell_type": "code",
   "execution_count": 4,
   "metadata": {},
   "outputs": [
    {
     "name": "stdout",
     "output_type": "stream",
     "text": [
      "Images merged and saved in: d:\\Users\\Documents\\GitHub\\CrackDetection-Utils-for-Python\\example\\chunk\\output\\prediction_maskrcnn\n"
     ]
    }
   ],
   "source": [
    "mi.batch_merge_images()"
   ]
  },
  {
   "cell_type": "markdown",
   "metadata": {},
   "source": [
    "### Evaluate Util"
   ]
  },
  {
   "cell_type": "code",
   "execution_count": 5,
   "metadata": {},
   "outputs": [],
   "source": [
    "from crack_detection_util.evaluate_util import Evaluator\n",
    "\n",
    "data = \"example/evaluation\"\n",
    "dataset = \"PCL7\"\n",
    "ev = Evaluator(input_folder=data, dataset=dataset)"
   ]
  },
  {
   "cell_type": "code",
   "execution_count": 6,
   "metadata": {},
   "outputs": [
    {
     "name": "stdout",
     "output_type": "stream",
     "text": [
      "Scores saved in example/evaluation\\PCL7_scores.csv\n"
     ]
    }
   ],
   "source": [
    "# ev.calculate_evaluation_metrics()\n",
    "# ev.merge_csv_files()"
   ]
  },
  {
   "cell_type": "code",
   "execution_count": 7,
   "metadata": {},
   "outputs": [
    {
     "name": "stdout",
     "output_type": "stream",
     "text": [
      "Merged file saved in example/evaluation\\scores.csv\n"
     ]
    }
   ],
   "source": [
    "ev.evaluate_all_datasets()"
   ]
  }
 ],
 "metadata": {
  "kernelspec": {
   "display_name": "crack",
   "language": "python",
   "name": "python3"
  },
  "language_info": {
   "codemirror_mode": {
    "name": "ipython",
    "version": 3
   },
   "file_extension": ".py",
   "mimetype": "text/x-python",
   "name": "python",
   "nbconvert_exporter": "python",
   "pygments_lexer": "ipython3",
   "version": "3.10.13"
  }
 },
 "nbformat": 4,
 "nbformat_minor": 2
}
